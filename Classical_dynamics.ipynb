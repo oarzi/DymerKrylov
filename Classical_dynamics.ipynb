{
 "cells": [
  {
   "cell_type": "code",
   "execution_count": 2,
   "id": "18c3d02a-c850-4bb6-b231-212239c3d082",
   "metadata": {},
   "outputs": [],
   "source": [
    "import dimers_util \n",
    "import numpy as np\n",
    "import matplotlib.pyplot as plt\n",
    "import pickle\n",
    "from importlib import reload \n",
    "reload(dimers_util)\n",
    "from dimers_util import *\n",
    "import sys"
   ]
  },
  {
   "cell_type": "code",
   "execution_count": 49,
   "id": "24654fc9-ed7a-4e5f-8743-3377d1c3aec2",
   "metadata": {},
   "outputs": [],
   "source": [
    "np.set_printoptions(threshold=sys.maxsize)"
   ]
  },
  {
   "cell_type": "code",
   "execution_count": null,
   "id": "c93a7995-dc38-43ca-b006-0f7751f3a35a",
   "metadata": {},
   "outputs": [
    {
     "name": "stdout",
     "output_type": "stream",
     "text": [
      "98 580\n"
     ]
    }
   ],
   "source": [
    "d25 = [50, 60, 70, 80]\n",
    "times = 300\n",
    "L12 = 100\n",
    "nums = 5\n",
    "# H = {'H_ring' : get_h_ring(L12), 'H_hopp' : get_h_hop(L12)}\n",
    "# classical_evolutions_single2(L12, times, H, d25[0], 1)\n",
    "# classical_evolution(L12, times, H, d=d25[0], nums=1, steps=False, p=1)\n",
    "analysis25_1 = parallel_analysis(L12, times, d25, nums)"
   ]
  },
  {
   "cell_type": "code",
   "execution_count": null,
   "id": "b596c5c1-7883-4b89-bb6b-ae32175b8c2a",
   "metadata": {},
   "outputs": [],
   "source": [
    "for a,d in zip(analysis25_1, d25):\n",
    "    plt.plot(a['Mean'], label=d)\n",
    "plt.legend()"
   ]
  },
  {
   "cell_type": "code",
   "execution_count": null,
   "id": "2bcc6f1d-9e73-4453-801e-765ef44423fc",
   "metadata": {},
   "outputs": [],
   "source": [
    "for a,d in zip(analysis25_1, d25):\n",
    "    plt.plot(a['speed'], label=d)\n",
    "plt.legend()"
   ]
  },
  {
   "cell_type": "code",
   "execution_count": null,
   "id": "a19cf7ef-86f1-436f-97fa-c7e568438626",
   "metadata": {},
   "outputs": [],
   "source": [
    "for a,d in zip(analysis25_1, d25):\n",
    "    plt.plot(a['acc'], label=d)\n",
    "plt.legend()\n",
    "plt.show()"
   ]
  },
  {
   "cell_type": "code",
   "execution_count": 3,
   "id": "593d0712-7d65-4d00-9a1c-fefe67a83eb1",
   "metadata": {},
   "outputs": [
    {
     "ename": "NameError",
     "evalue": "name 'L12' is not defined",
     "output_type": "error",
     "traceback": [
      "\u001b[1;31m---------------------------------------------------------------------------\u001b[0m",
      "\u001b[1;31mNameError\u001b[0m                                 Traceback (most recent call last)",
      "Cell \u001b[1;32mIn [3], line 2\u001b[0m\n\u001b[0;32m      1\u001b[0m fig, axs \u001b[38;5;241m=\u001b[39m plt\u001b[38;5;241m.\u001b[39msubplots(\u001b[38;5;241m3\u001b[39m)\n\u001b[1;32m----> 2\u001b[0m fig\u001b[38;5;241m.\u001b[39msuptitle(\u001b[38;5;124m'\u001b[39m\u001b[38;5;124mL=\u001b[39m\u001b[38;5;132;01m{}\u001b[39;00m\u001b[38;5;124m, times=\u001b[39m\u001b[38;5;132;01m{}\u001b[39;00m\u001b[38;5;124m, nums=\u001b[39m\u001b[38;5;132;01m{}\u001b[39;00m\u001b[38;5;124m'\u001b[39m\u001b[38;5;241m.\u001b[39mformat(\u001b[43mL12\u001b[49m, times, nums))\n\u001b[0;32m      3\u001b[0m \u001b[38;5;28;01mfor\u001b[39;00m a,d \u001b[38;5;129;01min\u001b[39;00m \u001b[38;5;28mzip\u001b[39m(analysis25_1, d25):\n\u001b[0;32m      4\u001b[0m     ax[\u001b[38;5;241m0\u001b[39m]\u001b[38;5;241m.\u001b[39mplot(a[\u001b[38;5;124m'\u001b[39m\u001b[38;5;124mMean\u001b[39m\u001b[38;5;124m'\u001b[39m], label\u001b[38;5;241m=\u001b[39md)\n",
      "\u001b[1;31mNameError\u001b[0m: name 'L12' is not defined"
     ]
    },
    {
     "data": {
      "image/png": "[encoded data removed]",
      "text/plain": [
       "<Figure size 640x480 with 3 Axes>"
      ]
     },
     "metadata": {},
     "output_type": "display_data"
    }
   ],
   "source": [
    "fig, axs = plt.subplots(3)\n",
    "fig.suptitle('L={}, times={}, nums={}'.format(L12, times, nums))\n",
    "for a,d in zip(analysis25_1, d25):\n",
    "    ax[0].plot(a['Mean'], label=d)\n",
    "ax[0].legend()\n",
    "ax[0].title(\"Mean position\")\n",
    "\n",
    "for a,d in zip(analysis25_1, d25):\n",
    "    ax[1].plot(a['speed'], label=d)\n",
    "ax[1].legend()\n",
    "ax[1].title(\"Speed\")\n",
    "\n",
    "for a,d in zip(analysis25_1, d25):\n",
    "    ax[2].plot(a['acc'], label=d)\n",
    "ax[2].legend()\n",
    "ax[2].title(\"acceleration\")\n",
    "\n",
    "plt.show()"
   ]
  },
  {
   "cell_type": "code",
   "execution_count": 10,
   "id": "3e3838cb-4c28-4b33-a7e6-03703c824c3b",
   "metadata": {},
   "outputs": [
    {
     "name": "stdout",
     "output_type": "stream",
     "text": [
      "2022_12_12_15_44\n"
     ]
    }
   ],
   "source": [
    "\n",
    "print(today)"
   ]
  }
 ],
 "metadata": {
  "kernelspec": {
   "display_name": "Python 3 (ipykernel)",
   "language": "python",
   "name": "python3"
  },
  "language_info": {
   "codemirror_mode": {
    "name": "ipython",
    "version": 3
   },
   "file_extension": ".py",
   "mimetype": "text/x-python",
   "name": "python",
   "nbconvert_exporter": "python",
   "pygments_lexer": "ipython3",
   "version": "3.9.12"
  }
 },
 "nbformat": 4,
 "nbformat_minor": 5
}
