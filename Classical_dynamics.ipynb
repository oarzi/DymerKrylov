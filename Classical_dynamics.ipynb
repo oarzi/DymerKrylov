{
 "cells": [
  {
   "cell_type": "code",
   "execution_count": 2,
   "id": "911955a1-6d43-4978-8c53-2d6a9349852b",
   "metadata": {},
   "outputs": [],
   "source": [
    "import dimers_util \n",
    "import numpy as np\n",
    "import matplotlib.pyplot as plt\n",
    "import struct\n",
    "import sys\n",
    "import os\n",
    "import scipy.sparse as sparse\n",
    "import time\n",
    "import pickle\n",
    "from importlib import reload \n",
    "reload(dimers_util)\n",
    "from dimers_util import *"
   ]
  },
  {
   "cell_type": "code",
   "execution_count": null,
   "id": "394fc2be-ca52-480f-84e5-a455124fb3ea",
   "metadata": {},
   "outputs": [],
   "source": [
    "L16 = 16\n",
    "H16 = load_data(L16)\n",
    "times = 10000\n",
    "d16=0\n",
    "nums16=200\n",
    "\n",
    "c_rho16 = classical_evolution(L16, times, H16,d=d16,nums=nums16)\n",
    "q_rho16 = quantum_evolution(L16, times, H16,d=d16)"
   ]
  }
 ],
 "metadata": {
  "kernelspec": {
   "display_name": "Python 3 (ipykernel)",
   "language": "python",
   "name": "python3"
  },
  "language_info": {
   "codemirror_mode": {
    "name": "ipython",
    "version": 3
   },
   "file_extension": ".py",
   "mimetype": "text/x-python",
   "name": "python",
   "nbconvert_exporter": "python",
   "pygments_lexer": "ipython3",
   "version": "3.9.12"
  }
 },
 "nbformat": 4,
 "nbformat_minor": 5
}
