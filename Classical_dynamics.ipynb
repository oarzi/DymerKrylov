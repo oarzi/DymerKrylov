{
 "cells": [
  {
   "cell_type": "code",
   "execution_count": 2,
   "id": "18c3d02a-c850-4bb6-b231-212239c3d082",
   "metadata": {},
   "outputs": [
    {
     "data": {
      "text/plain": [
       "<module 'dimers_sim' from 'C:\\\\Users\\\\ofir\\\\OneDrive - Technion\\\\Research - PhD\\\\DynamicalConfinement\\\\DymerKrylov\\\\dimers_sim.py'>"
      ]
     },
     "execution_count": 2,
     "metadata": {},
     "output_type": "execute_result"
    }
   ],
   "source": [
    "import dimers_util\n",
    "from dimers_util import *\n",
    "import dimers_sim\n",
    "import numpy as np\n",
    "import sys\n",
    "np.set_printoptions(threshold=sys.maxsize)\n",
    "import matplotlib.pyplot as plt\n",
    "import matplotlib\n",
    "from importlib import reload \n",
    "reload(dimers_util)\n",
    "reload(dimers_sim)"
   ]
  },
  {
   "cell_type": "code",
   "execution_count": null,
   "id": "80951145-0f8c-462c-ba1d-69e44f51070e",
   "metadata": {},
   "outputs": [
    {
     "name": "stdout",
     "output_type": "stream",
     "text": [
      "38 220\n",
      "Waiting for all processes to close\n",
      "0 items waiting\n"
     ]
    }
   ],
   "source": [
    "d_sim = [20, 30]\n",
    "L_sim = 40\n",
    "times_sim = 400\n",
    "nums_sim = 60000\n",
    "simulator = dimers_sim.Simulator(L_sim, times_sim, d_sim, nums_sim, d_procs_num=2, nums_subprocs_num=3)\n",
    "r = simulator.parallel_analysis()"
   ]
  },
  {
   "cell_type": "code",
   "execution_count": null,
   "id": "580b471e-50cf-4955-b0ed-319ffdb2399a",
   "metadata": {},
   "outputs": [],
   "source": [
    "dimers_sim.plot_analysis(simulator.analysis_rhos, L_sim, times_sim, nums_sim)"
   ]
  },
  {
   "cell_type": "code",
   "execution_count": 9,
   "id": "a0ad5df4-0d87-4b9f-a3f7-18908d3e8aa7",
   "metadata": {},
   "outputs": [
    {
     "ename": "SyntaxError",
     "evalue": "invalid syntax (3941479316.py, line 11)",
     "output_type": "error",
     "traceback": [
      "\u001b[1;36m  Cell \u001b[1;32mIn[9], line 11\u001b[1;36m\u001b[0m\n\u001b[1;33m    print(psi)\u001b[0m\n\u001b[1;37m    ^\u001b[0m\n\u001b[1;31mSyntaxError\u001b[0m\u001b[1;31m:\u001b[0m invalid syntax\n"
     ]
    }
   ],
   "source": [
    "# numpy.apply_along_axis\n",
    "H_ring, H_hopp = get_h_ring(L), get_h_hop(L)\n",
    "gates = H_ring + H_hopp\n",
    "p_array = np.concatenate((np.ones(len(H_ring)), np.ones(len(H_hopp))))/(len(H_ring)+len(H_hopp))\n",
    "psi =  np.array([get_initial_config(10, 5) for i in range(3)])\n",
    "gates_i = np.random.choice(gates, size=psi.shape[0], p=p_array)\n",
    "\n",
    "def apply(f, a):\n",
    "    return f(a)\n",
    "psi = np.array(map(apply, zip(psi, gates_i))\n",
    "print(psi)"
   ]
  }
 ],
 "metadata": {
  "kernelspec": {
   "display_name": "Python 3 (ipykernel)",
   "language": "python",
   "name": "python3"
  },
  "language_info": {
   "codemirror_mode": {
    "name": "ipython",
    "version": 3
   },
   "file_extension": ".py",
   "mimetype": "text/x-python",
   "name": "python",
   "nbconvert_exporter": "python",
   "pygments_lexer": "ipython3",
   "version": "3.9.12"
  }
 },
 "nbformat": 4,
 "nbformat_minor": 5
}
