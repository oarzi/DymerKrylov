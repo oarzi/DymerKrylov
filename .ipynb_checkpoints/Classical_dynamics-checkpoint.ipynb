{
 "cells": [
  {
   "cell_type": "code",
   "execution_count": 20,
   "id": "18c3d02a-c850-4bb6-b231-212239c3d082",
   "metadata": {},
   "outputs": [],
   "source": [
    "import dimers_util \n",
    "import numpy as np\n",
    "import matplotlib.pyplot as plt\n",
    "import pickle\n",
    "from importlib import reload \n",
    "reload(dimers_util)\n",
    "from dimers_util import *"
   ]
  },
  {
   "cell_type": "code",
   "execution_count": 21,
   "id": "c93a7995-dc38-43ca-b006-0f7751f3a35a",
   "metadata": {},
   "outputs": [
    {
     "name": "stdout",
     "output_type": "stream",
     "text": [
      "12 3 ['H_ring', 'H_hopp'] 8 1\n"
     ]
    },
    {
     "name": "stderr",
     "output_type": "stream",
     "text": [
      "100%|████████████████████████████████████████████████████████████████████████████████████| 3/3 [00:00<00:00, 61.06it/s]"
     ]
    },
    {
     "name": "stdout",
     "output_type": "stream",
     "text": [
      "[1 0 1 0 1 0 0 0 1 0 1 0 0 0 1 0 1 0 0 0 1 0 1 0 1 0 0 1 0 0 1 0 0 1 0 0]\n",
      "gate=ring(sites=array([ 9, 12, 10, 11]))\n",
      "[1 0 1 0 1 0 0 0 1 0 1 0 0 0 1 0 1 0 0 0 1 0 1 0 1 0 0 1 0 0 1 0 0 1 0 0]\n",
      "gate=ring(sites=array([30, 33, 31, 32]))\n",
      "[1 0 1 0 1 0 0 0 1 0 1 0 0 0 1 0 1 0 0 0 1 0 1 0 1 0 0 1 0 0 0 1 1 0 0 0]\n",
      "gate=hop(sites=array([31, 33, 34, 28, 25, 27], dtype=int32))\n",
      "rho=[[1 0 0 0 0 0 0 0 1 0 0 0]\n",
      " [1 0 0 0 0 0 0 0 1 0 0 0]\n",
      " [1 0 0 0 0 0 0 0 1 0 0 0]\n",
      " [1 0 0 0 0 0 0 0 1 0 0 0]]\n",
      "[array([[1, 0, 0, 0, 0, 0, 0, 0, 1, 0, 0, 0],\n",
      "        [1, 0, 0, 0, 0, 0, 0, 0, 1, 0, 0, 0],\n",
      "        [1, 0, 0, 0, 0, 0, 0, 0, 1, 0, 0, 0],\n",
      "        [1, 0, 0, 0, 0, 0, 0, 0, 1, 0, 0, 0]], dtype=int8)]\n",
      "type(rhos)=<class 'numpy.ndarray'>\n",
      "rhos=[array([[1, 0, 0, 0, 0, 0, 0, 0, 1, 0, 0, 0],\n",
      "        [1, 0, 0, 0, 0, 0, 0, 0, 1, 0, 0, 0],\n",
      "        [1, 0, 0, 0, 0, 0, 0, 0, 1, 0, 0, 0],\n",
      "        [1, 0, 0, 0, 0, 0, 0, 0, 1, 0, 0, 0]], dtype=int8)]\n",
      "results=[array([[1, 0, 0, 0, 0, 0, 0, 0, 1, 0, 0, 0],\n",
      "        [1, 0, 0, 0, 0, 0, 0, 0, 1, 0, 0, 0],\n",
      "        [1, 0, 0, 0, 0, 0, 0, 0, 1, 0, 0, 0],\n",
      "        [1, 0, 0, 0, 0, 0, 0, 0, 1, 0, 0, 0]], dtype=int8)]\n"
     ]
    },
    {
     "name": "stderr",
     "output_type": "stream",
     "text": [
      "\n"
     ]
    },
    {
     "data": {
      "text/plain": [
       "array([[1., 0., 0., 0., 0., 0., 0., 0., 1., 0., 0., 0.],\n",
       "       [1., 0., 0., 0., 0., 0., 0., 0., 1., 0., 0., 0.],\n",
       "       [1., 0., 0., 0., 0., 0., 0., 0., 1., 0., 0., 0.],\n",
       "       [1., 0., 0., 0., 0., 0., 0., 0., 1., 0., 0., 0.]])"
      ]
     },
     "execution_count": 21,
     "metadata": {},
     "output_type": "execute_result"
    },
    {
     "data": {
      "image/png": "[encoded data removed]",
      "text/plain": [
       "<Figure size 1200x100 with 1 Axes>"
      ]
     },
     "metadata": {},
     "output_type": "display_data"
    },
    {
     "data": {
      "image/png": "[encoded data removed]",
      "text/plain": [
       "<Figure size 1200x100 with 1 Axes>"
      ]
     },
     "metadata": {},
     "output_type": "display_data"
    },
    {
     "data": {
      "image/png": "[encoded data removed]",
      "text/plain": [
       "<Figure size 1200x100 with 1 Axes>"
      ]
     },
     "metadata": {},
     "output_type": "display_data"
    },
    {
     "data": {
      "image/png": "[encoded data removed]",
      "text/plain": [
       "<Figure size 1200x100 with 1 Axes>"
      ]
     },
     "metadata": {},
     "output_type": "display_data"
    }
   ],
   "source": [
    "d25 = [8]\n",
    "times = 3\n",
    "L12 = 12\n",
    "H = {'H_ring' : get_h_ring(L12), 'H_hopp' : get_h_hop(L12)}\n",
    "# classical_evolutions_single2(L12, times, H, d25[0], 1)\n",
    "# classical_evolution(L12, times, H, d=d25[0], nums=1, steps=False, p=1)\n",
    "analysis25_1 = parallel_analysis(L12, times, d25, 1)"
   ]
  },
  {
   "cell_type": "code",
   "execution_count": 15,
   "id": "10aeac53-f165-465b-9289-ccb1dd2aee07",
   "metadata": {},
   "outputs": [
    {
     "data": {
      "text/plain": [
       "array([ 1,  2,  3,  4,  5,  6,  7,  8,  9, 10])"
      ]
     },
     "execution_count": 15,
     "metadata": {},
     "output_type": "execute_result"
    }
   ],
   "source": [
    "np.arange(1,L12 - 1)"
   ]
  },
  {
   "cell_type": "code",
   "execution_count": null,
   "id": "b515e2d6-08b2-4f29-b621-3d93698d44a2",
   "metadata": {},
   "outputs": [],
   "source": [
    "plot_rho(analysis25_1[4], 25)"
   ]
  },
  {
   "cell_type": "code",
   "execution_count": null,
   "id": "b596c5c1-7883-4b89-bb6b-ae32175b8c2a",
   "metadata": {},
   "outputs": [],
   "source": [
    "for a,d in zip(analysis25_1, d25):\n",
    "    plt.plot(a['Mean'], label=d)\n",
    "plt.legend()"
   ]
  },
  {
   "cell_type": "code",
   "execution_count": null,
   "id": "2bcc6f1d-9e73-4453-801e-765ef44423fc",
   "metadata": {},
   "outputs": [],
   "source": [
    "for a,d in zip(analysis25_1, d25):\n",
    "    plt.plot(a['speed'], label=d)\n",
    "plt.legend()"
   ]
  },
  {
   "cell_type": "code",
   "execution_count": null,
   "id": "a19cf7ef-86f1-436f-97fa-c7e568438626",
   "metadata": {},
   "outputs": [],
   "source": [
    "for a,d in zip(analysis25_1, d25):\n",
    "    plt.plot(a['acc'], label=d)\n",
    "plt.legend()\n",
    "plt.show()"
   ]
  },
  {
   "cell_type": "code",
   "execution_count": null,
   "id": "c69f7294-0e07-42c3-a2db-637c1eeb6f8d",
   "metadata": {},
   "outputs": [],
   "source": [
    "L = 12\n",
    "i = np.arange(0,12)\n",
    "    \n",
    "hop1 = np.stack([3 * ((i + 3) % L) + 0, 3 * ((i + 2) % L) + 2, 3 * ((i + 3) % L) + 2,\n",
    "                 3 * ((i + 2) % L) + 1, 3 * ((i + 2) % L) + 0, 3 * ((i + 1) % L) + 1]).T\n",
    "\n",
    "hop2 = np.stack([3 * ((i + 3) % L) + 0, 3 * ((i + 2) % L) + 2, 3 * ((i + 3) % L) + 2,\n",
    "                 3 * ((i + 3) % L) + 1, 3 * ((i + 4) % L) + 0, 3 * ((i + 4) % L) + 1]).T\n",
    "\n",
    "hop3 = np.stack([3 * ((i + 2) % L) + 0, 3 * ((i + 1) % L) + 1, 3 * ((i + 2) % L) + 1,\n",
    "                 3 * ((i + 1) % L) + 2, 3 * ((i + 1) % L) + 0, 3 * (i % L) + 2]).T\n",
    "\n",
    "hop4 = np.stack([3 * ((i + 1) % L) + 0, 3 * (i % L) + 1,       3 * ((i + 1) % L) + 1,\n",
    "                 3 * ((i + 1) % L) + 2, 3 * ((i + 2) % L) + 0, 3 * ((i + 2) % L) + 2]).T\n",
    "\n",
    "hop5 = np.stack([3 * ((i + 2) % L) + 1, 3 * ((i + 3) % L) + 0, 3 * ((i + 3) % L) + 1,\n",
    "                 3 * ((i + 1) % L) + 1, 3 * ((i + 0) % L) + 1, 3 * ((i + 1) % L)]).T\n",
    "\n",
    "hop6 = np.stack([3 * ((i + 2) % L) + 2, 3 * ((i + 3) % L) + 0, 3 * ((i + 3) % L) + 2,\n",
    "                 3 * ((i + 1) % L) + 2, 3 * ((i + 0) % L) + 2, 3 * ((i + 1) % L)]).T\n",
    "\n",
    "hops = np.vstack((hop1, hop2, hop3, hop4, hop5, hop6))"
   ]
  },
  {
   "cell_type": "code",
   "execution_count": null,
   "id": "99dd03c6-357a-4762-97ce-4bca05dcbe08",
   "metadata": {},
   "outputs": [],
   "source": [
    "(hops < 2).shape"
   ]
  },
  {
   "cell_type": "code",
   "execution_count": null,
   "id": "7398a92e-aaf1-4c6c-a313-7e767617f440",
   "metadata": {},
   "outputs": [],
   "source": [
    "np.random.rand(6,30).shape"
   ]
  },
  {
   "cell_type": "code",
   "execution_count": null,
   "id": "bb772f55-85b3-4310-9d4d-49173219c68c",
   "metadata": {},
   "outputs": [],
   "source": [
    "hhops = hops < 2\n",
    "print(hhops.shape)\n",
    "np.any(np.random.rand(30,6),axis=1)"
   ]
  },
  {
   "cell_type": "code",
   "execution_count": null,
   "id": "822101c4-c553-4bb9-a6f7-8e5acde4b28a",
   "metadata": {},
   "outputs": [],
   "source": [
    "np.any(hops <= 2, axis=1).shape"
   ]
  },
  {
   "cell_type": "code",
   "execution_count": null,
   "id": "f7d1d9d8-817e-4cca-a988-3ede6b2132fc",
   "metadata": {},
   "outputs": [],
   "source": [
    "type(hops)"
   ]
  }
 ],
 "metadata": {
  "kernelspec": {
   "display_name": "Python 3 (ipykernel)",
   "language": "python",
   "name": "python3"
  },
  "language_info": {
   "codemirror_mode": {
    "name": "ipython",
    "version": 3
   },
   "file_extension": ".py",
   "mimetype": "text/x-python",
   "name": "python",
   "nbconvert_exporter": "python",
   "pygments_lexer": "ipython3",
   "version": "3.9.12"
  }
 },
 "nbformat": 4,
 "nbformat_minor": 5
}
