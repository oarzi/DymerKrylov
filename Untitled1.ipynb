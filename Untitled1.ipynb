{
 "cells": [
  {
   "cell_type": "code",
   "execution_count": 2,
   "id": "b2b424f0-800b-425c-ac01-7ad952e6cc28",
   "metadata": {},
   "outputs": [
    {
     "data": {
      "text/plain": [
       "<module 'dimers_sim' from 'C:\\\\Users\\\\ofir\\\\OneDrive - Technion\\\\Research - PhD\\\\DynamicalConfinement\\\\DymerKrylov\\\\dimers_sim.py'>"
      ]
     },
     "execution_count": 2,
     "metadata": {},
     "output_type": "execute_result"
    }
   ],
   "source": [
    "import dimers_util\n",
    "import dimers_sim\n",
    "from dimers_util import *\n",
    "from dimers_sim import *\n",
    "import numpy as np\n",
    "import sys\n",
    "np.set_printoptions(threshold=sys.maxsize)\n",
    "import matplotlib.pyplot as plt\n",
    "import matplotlib\n",
    "import pickle\n",
    "from importlib import reload \n",
    "reload(dimers_util)\n",
    "reload(dimers_sim)"
   ]
  },
  {
   "cell_type": "code",
   "execution_count": 11,
   "id": "11d37268-e1c8-43e1-b276-da9c2ecbcd04",
   "metadata": {},
   "outputs": [
    {
     "name": "stdout",
     "output_type": "stream",
     "text": [
      "(1, 3, 30)\n"
     ]
    },
    {
     "name": "stderr",
     "output_type": "stream",
     "text": [
      "100%|████████████████████████████████████████████████████████████████████████████████████████████| 5/5 [00:00<?, ?it/s]"
     ]
    },
    {
     "name": "stdout",
     "output_type": "stream",
     "text": [
      "(3, 30)\n",
      "(2, 3, 30)\n",
      "(3, 30)\n",
      "(3, 3, 30)\n",
      "(3, 30)\n",
      "(4, 3, 30)\n",
      "(3, 30)\n",
      "(5, 3, 30)\n",
      "(3, 30)\n",
      "(6, 3, 30)\n",
      "(6, 3)\n",
      "True\n",
      "(6, 3, 10)\n",
      "(6, 10)\n"
     ]
    },
    {
     "name": "stderr",
     "output_type": "stream",
     "text": [
      "\n"
     ]
    }
   ],
   "source": [
    "# numpy.apply_along_axis\n",
    "L = 10\n",
    "nums = 3\n",
    "d = 5\n",
    "times = 5\n",
    "H_ring, H_hopp = get_h_ring(L), get_h_hop(L)\n",
    "allgates = H_ring + H_hopp\n",
    "p_array = np.concatenate((np.ones(len(H_ring)), np.ones(len(H_hopp))))/(len(H_ring)+len(H_hopp))\n",
    "psi =  np.array([[get_initial_config(L, d) for i in range(nums)]], dtype=np.int32)\n",
    "def apply(f):\n",
    "    return f[0](f[1])\n",
    "gates = np.random.choice(allgates, size=(times,nums), p=p_array)\n",
    "print(psi.shape)\n",
    "for gates_i in tqdm(gates):\n",
    "    # print(list(zip(gates_i, psi[-1])))\n",
    "    psi_next = np.array(list(map(apply, zip(gates_i, psi[-1]))))\n",
    "    print(psi_next.shape)\n",
    "    psi = np.vstack((psi, [psi_next]))\n",
    "    print(psi.shape)\n",
    "\n",
    "print(psi[:,:,2].shape)\n",
    "psi_def = np.apply_along_axis(defect_density, 2 , psi)\n",
    "print(np.array_equal(psi_def[1,2], defect_density(psi[1,2])))\n",
    "print(psi_def.shape)\n",
    "psi_def = np.sum(psi_def, axis=1) / nums\n",
    "print(psi_def.shape)"
   ]
  },
  {
   "cell_type": "code",
   "execution_count": 22,
   "id": "36a32f64-8350-43fd-8ac0-8cea4c1c5db5",
   "metadata": {},
   "outputs": [],
   "source": [
    "l = [1,2,3,4]"
   ]
  },
  {
   "cell_type": "code",
   "execution_count": 23,
   "id": "0f39db50-ff8c-4a00-ba78-4b0ed6d04526",
   "metadata": {},
   "outputs": [],
   "source": [
    "ll = l.copy()"
   ]
  },
  {
   "cell_type": "code",
   "execution_count": 24,
   "id": "3fd6f84e-82b3-4333-9ae8-f3db2c055d8c",
   "metadata": {},
   "outputs": [
    {
     "data": {
      "text/plain": [
       "([1, 2, 3, 4], [1, 2, 3, 4])"
      ]
     },
     "execution_count": 24,
     "metadata": {},
     "output_type": "execute_result"
    }
   ],
   "source": [
    "ll, l"
   ]
  },
  {
   "cell_type": "code",
   "execution_count": 27,
   "id": "3fbf0e2f-e79f-4df8-a342-bd0b0d5b2a0b",
   "metadata": {},
   "outputs": [
    {
     "data": {
      "text/plain": [
       "2"
      ]
     },
     "execution_count": 27,
     "metadata": {},
     "output_type": "execute_result"
    }
   ],
   "source": [
    "ll.pop(0)"
   ]
  },
  {
   "cell_type": "code",
   "execution_count": 28,
   "id": "06dbbdc6-345e-4138-a2fa-5c45992702dc",
   "metadata": {},
   "outputs": [
    {
     "data": {
      "text/plain": [
       "([3, 4], [1, 2, 3, 4])"
      ]
     },
     "execution_count": 28,
     "metadata": {},
     "output_type": "execute_result"
    }
   ],
   "source": [
    "ll, l"
   ]
  }
 ],
 "metadata": {
  "kernelspec": {
   "display_name": "Python 3 (ipykernel)",
   "language": "python",
   "name": "python3"
  },
  "language_info": {
   "codemirror_mode": {
    "name": "ipython",
    "version": 3
   },
   "file_extension": ".py",
   "mimetype": "text/x-python",
   "name": "python",
   "nbconvert_exporter": "python",
   "pygments_lexer": "ipython3",
   "version": "3.9.12"
  }
 },
 "nbformat": 4,
 "nbformat_minor": 5
}
